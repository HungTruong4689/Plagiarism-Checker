{
 "cells": [
  {
   "cell_type": "code",
   "execution_count": 1,
   "id": "6d000ff4",
   "metadata": {},
   "outputs": [],
   "source": [
    "import pandas as pd\n",
    "import re,os\n",
    "import numpy as np\n",
    "\n",
    "#dictionary where values are list\n",
    "from collections import defaultdict\n",
    "\n",
    "#plotting\n",
    "import matplotlib.pyplot as plt\n",
    "import seaborn as sns"
   ]
  },
  {
   "cell_type": "markdown",
   "id": "7c70a547",
   "metadata": {},
   "source": [
    "check vector"
   ]
  },
  {
   "cell_type": "code",
   "execution_count": 2,
   "id": "e0b69121",
   "metadata": {},
   "outputs": [],
   "source": [
    "A=np.array([1,5,3,4,2,0,0,1])\n",
    "\n",
    "B=np.array([0,0,1,3,5,6,0,2])\n",
    "\n",
    "numerator=np.dot(A,B)"
   ]
  },
  {
   "cell_type": "code",
   "execution_count": 3,
   "id": "a9bd6e55",
   "metadata": {},
   "outputs": [
    {
     "data": {
      "text/plain": [
       "27"
      ]
     },
     "execution_count": 3,
     "metadata": {},
     "output_type": "execute_result"
    }
   ],
   "source": [
    "numerator"
   ]
  },
  {
   "cell_type": "code",
   "execution_count": 4,
   "id": "7e940ac8",
   "metadata": {},
   "outputs": [],
   "source": [
    "denom = np.sqrt(sum(np.square(A))) * np.sqrt(sum(np.square(B)))"
   ]
  },
  {
   "cell_type": "code",
   "execution_count": 5,
   "id": "30a11419",
   "metadata": {},
   "outputs": [
    {
     "data": {
      "text/plain": [
       "64.80740698407861"
      ]
     },
     "execution_count": 5,
     "metadata": {},
     "output_type": "execute_result"
    }
   ],
   "source": [
    "denom"
   ]
  },
  {
   "cell_type": "code",
   "execution_count": 6,
   "id": "484c1e80",
   "metadata": {},
   "outputs": [
    {
     "data": {
      "text/plain": [
       "0.417"
      ]
     },
     "execution_count": 6,
     "metadata": {},
     "output_type": "execute_result"
    }
   ],
   "source": [
    "round(numerator/denom,3)"
   ]
  },
  {
   "cell_type": "code",
   "execution_count": 7,
   "id": "12cafc81",
   "metadata": {},
   "outputs": [],
   "source": [
    "# Define the documents\n",
    "doc_trump = \"Mr. Trump became president after winning the political election. Though he lost the support of some republican friends, Trump is friends with President Putin\"\n",
    "\n",
    "doc_election = \"President Trump says Putin had no political interference is the election outcome. He says it was a witchhunt by political parties. He claimed President Putin is a friend who had nothing to do with the election\"\n",
    "\n",
    "doc_putin = \"Post elections, Vladimir Putin became President of Russia. President Putin had served as the Prime Minister earlier in his political career\"\n",
    "\n",
    "documents = [doc_trump, doc_election, doc_putin]"
   ]
  },
  {
   "cell_type": "code",
   "execution_count": 11,
   "id": "a32125e7",
   "metadata": {},
   "outputs": [],
   "source": [
    "from sklearn.feature_extraction.text import CountVectorizer\n",
    "import pandas as pd\n",
    "\n",
    "#Create the Document Term matrix\n",
    "vectorize = CountVectorizer(ngram_range=(2,4),stop_words=\"english\")\n",
    "sparse_matrix = vectorize.fit_transform(documents)\n",
    "\n",
    "doc_term_matrix = sparse_matrix.todense()\n",
    "\n",
    "df = pd.DataFrame(doc_term_matrix, columns= vectorize.get_feature_names(),\n",
    "                 index=['doc_trump', 'doc_election', 'doc_putin'])"
   ]
  },
  {
   "cell_type": "code",
   "execution_count": 12,
   "id": "e6c74dac",
   "metadata": {},
   "outputs": [
    {
     "data": {
      "text/html": [
       "<div>\n",
       "<style scoped>\n",
       "    .dataframe tbody tr th:only-of-type {\n",
       "        vertical-align: middle;\n",
       "    }\n",
       "\n",
       "    .dataframe tbody tr th {\n",
       "        vertical-align: top;\n",
       "    }\n",
       "\n",
       "    .dataframe thead th {\n",
       "        text-align: right;\n",
       "    }\n",
       "</style>\n",
       "<table border=\"1\" class=\"dataframe\">\n",
       "  <thead>\n",
       "    <tr style=\"text-align: right;\">\n",
       "      <th></th>\n",
       "      <th>claimed president</th>\n",
       "      <th>claimed president putin</th>\n",
       "      <th>claimed president putin friend</th>\n",
       "      <th>earlier political</th>\n",
       "      <th>earlier political career</th>\n",
       "      <th>election lost</th>\n",
       "      <th>election lost support</th>\n",
       "      <th>election lost support republican</th>\n",
       "      <th>election outcome</th>\n",
       "      <th>election outcome says</th>\n",
       "      <th>...</th>\n",
       "      <th>trump says putin political</th>\n",
       "      <th>vladimir putin</th>\n",
       "      <th>vladimir putin president</th>\n",
       "      <th>vladimir putin president russia</th>\n",
       "      <th>winning political</th>\n",
       "      <th>winning political election</th>\n",
       "      <th>winning political election lost</th>\n",
       "      <th>witchhunt political</th>\n",
       "      <th>witchhunt political parties</th>\n",
       "      <th>witchhunt political parties claimed</th>\n",
       "    </tr>\n",
       "  </thead>\n",
       "  <tbody>\n",
       "    <tr>\n",
       "      <th>doc_trump</th>\n",
       "      <td>0</td>\n",
       "      <td>0</td>\n",
       "      <td>0</td>\n",
       "      <td>0</td>\n",
       "      <td>0</td>\n",
       "      <td>1</td>\n",
       "      <td>1</td>\n",
       "      <td>1</td>\n",
       "      <td>0</td>\n",
       "      <td>0</td>\n",
       "      <td>...</td>\n",
       "      <td>0</td>\n",
       "      <td>0</td>\n",
       "      <td>0</td>\n",
       "      <td>0</td>\n",
       "      <td>1</td>\n",
       "      <td>1</td>\n",
       "      <td>1</td>\n",
       "      <td>0</td>\n",
       "      <td>0</td>\n",
       "      <td>0</td>\n",
       "    </tr>\n",
       "    <tr>\n",
       "      <th>doc_election</th>\n",
       "      <td>1</td>\n",
       "      <td>1</td>\n",
       "      <td>1</td>\n",
       "      <td>0</td>\n",
       "      <td>0</td>\n",
       "      <td>0</td>\n",
       "      <td>0</td>\n",
       "      <td>0</td>\n",
       "      <td>1</td>\n",
       "      <td>1</td>\n",
       "      <td>...</td>\n",
       "      <td>1</td>\n",
       "      <td>0</td>\n",
       "      <td>0</td>\n",
       "      <td>0</td>\n",
       "      <td>0</td>\n",
       "      <td>0</td>\n",
       "      <td>0</td>\n",
       "      <td>1</td>\n",
       "      <td>1</td>\n",
       "      <td>1</td>\n",
       "    </tr>\n",
       "    <tr>\n",
       "      <th>doc_putin</th>\n",
       "      <td>0</td>\n",
       "      <td>0</td>\n",
       "      <td>0</td>\n",
       "      <td>1</td>\n",
       "      <td>1</td>\n",
       "      <td>0</td>\n",
       "      <td>0</td>\n",
       "      <td>0</td>\n",
       "      <td>0</td>\n",
       "      <td>0</td>\n",
       "      <td>...</td>\n",
       "      <td>0</td>\n",
       "      <td>1</td>\n",
       "      <td>1</td>\n",
       "      <td>1</td>\n",
       "      <td>0</td>\n",
       "      <td>0</td>\n",
       "      <td>0</td>\n",
       "      <td>0</td>\n",
       "      <td>0</td>\n",
       "      <td>0</td>\n",
       "    </tr>\n",
       "  </tbody>\n",
       "</table>\n",
       "<p>3 rows × 115 columns</p>\n",
       "</div>"
      ],
      "text/plain": [
       "              claimed president  claimed president putin  \\\n",
       "doc_trump                     0                        0   \n",
       "doc_election                  1                        1   \n",
       "doc_putin                     0                        0   \n",
       "\n",
       "              claimed president putin friend  earlier political  \\\n",
       "doc_trump                                  0                  0   \n",
       "doc_election                               1                  0   \n",
       "doc_putin                                  0                  1   \n",
       "\n",
       "              earlier political career  election lost  election lost support  \\\n",
       "doc_trump                            0              1                      1   \n",
       "doc_election                         0              0                      0   \n",
       "doc_putin                            1              0                      0   \n",
       "\n",
       "              election lost support republican  election outcome  \\\n",
       "doc_trump                                    1                 0   \n",
       "doc_election                                 0                 1   \n",
       "doc_putin                                    0                 0   \n",
       "\n",
       "              election outcome says  ...  trump says putin political  \\\n",
       "doc_trump                         0  ...                           0   \n",
       "doc_election                      1  ...                           1   \n",
       "doc_putin                         0  ...                           0   \n",
       "\n",
       "              vladimir putin  vladimir putin president  \\\n",
       "doc_trump                  0                         0   \n",
       "doc_election               0                         0   \n",
       "doc_putin                  1                         1   \n",
       "\n",
       "              vladimir putin president russia  winning political  \\\n",
       "doc_trump                                   0                  1   \n",
       "doc_election                                0                  0   \n",
       "doc_putin                                   1                  0   \n",
       "\n",
       "              winning political election  winning political election lost  \\\n",
       "doc_trump                              1                                1   \n",
       "doc_election                           0                                0   \n",
       "doc_putin                              0                                0   \n",
       "\n",
       "              witchhunt political  witchhunt political parties  \\\n",
       "doc_trump                       0                            0   \n",
       "doc_election                    1                            1   \n",
       "doc_putin                       0                            0   \n",
       "\n",
       "              witchhunt political parties claimed  \n",
       "doc_trump                                       0  \n",
       "doc_election                                    1  \n",
       "doc_putin                                       0  \n",
       "\n",
       "[3 rows x 115 columns]"
      ]
     },
     "execution_count": 12,
     "metadata": {},
     "output_type": "execute_result"
    }
   ],
   "source": [
    "df"
   ]
  },
  {
   "cell_type": "code",
   "execution_count": 13,
   "id": "71310846",
   "metadata": {},
   "outputs": [
    {
     "name": "stdout",
     "output_type": "stream",
     "text": [
      "[[1.         0.0248452  0.02777778]\n",
      " [0.0248452  1.         0.0248452 ]\n",
      " [0.02777778 0.0248452  1.        ]]\n"
     ]
    }
   ],
   "source": [
    "from sklearn.metrics.pairwise import cosine_similarity\n",
    "print(cosine_similarity(df, df))"
   ]
  },
  {
   "cell_type": "code",
   "execution_count": null,
   "id": "f058961f",
   "metadata": {},
   "outputs": [],
   "source": []
  }
 ],
 "metadata": {
  "kernelspec": {
   "display_name": "Python 3",
   "language": "python",
   "name": "python3"
  },
  "language_info": {
   "codemirror_mode": {
    "name": "ipython",
    "version": 3
   },
   "file_extension": ".py",
   "mimetype": "text/x-python",
   "name": "python",
   "nbconvert_exporter": "python",
   "pygments_lexer": "ipython3",
   "version": "3.8.8"
  }
 },
 "nbformat": 4,
 "nbformat_minor": 5
}
